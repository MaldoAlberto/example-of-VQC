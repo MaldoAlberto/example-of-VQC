{
 "cells": [
  {
   "cell_type": "markdown",
   "id": "48c619af",
   "metadata": {
    "tags": []
   },
   "source": [
    "\n",
    "# Variational Classification\n",
    "\n",
    "This is a example using qiskit to build a quantum classification"
   ]
  },
  {
   "cell_type": "code",
   "execution_count": 1,
   "id": "fcef297a",
   "metadata": {},
   "outputs": [
    {
     "name": "stdout",
     "output_type": "stream",
     "text": [
      "Requirement already satisfied: qiskit in /home/toto/anaconda3/lib/python3.8/site-packages (0.27.0)\n",
      "Requirement already satisfied: qiskit-aqua==0.9.2 in /home/toto/anaconda3/lib/python3.8/site-packages (from qiskit) (0.9.2)\n",
      "Requirement already satisfied: qiskit-aer==0.8.2 in /home/toto/anaconda3/lib/python3.8/site-packages (from qiskit) (0.8.2)\n",
      "Requirement already satisfied: qiskit-ignis==0.6.0 in /home/toto/anaconda3/lib/python3.8/site-packages (from qiskit) (0.6.0)\n",
      "Requirement already satisfied: qiskit-ibmq-provider==0.14.0 in /home/toto/anaconda3/lib/python3.8/site-packages (from qiskit) (0.14.0)\n",
      "Collecting qiskit-terra==0.17.4\n",
      "  Using cached qiskit_terra-0.17.4-cp38-cp38-manylinux2010_x86_64.whl (6.1 MB)\n",
      "Requirement already satisfied: numpy>=1.16.3 in /home/toto/anaconda3/lib/python3.8/site-packages (from qiskit-aer==0.8.2->qiskit) (1.20.3)\n",
      "Requirement already satisfied: scipy>=1.0 in /home/toto/anaconda3/lib/python3.8/site-packages (from qiskit-aer==0.8.2->qiskit) (1.7.1)\n",
      "Requirement already satisfied: pybind11>=2.6 in /home/toto/anaconda3/lib/python3.8/site-packages (from qiskit-aer==0.8.2->qiskit) (2.6.2)\n",
      "Requirement already satisfied: quandl in /home/toto/anaconda3/lib/python3.8/site-packages (from qiskit-aqua==0.9.2->qiskit) (3.6.1)\n",
      "Requirement already satisfied: setuptools>=40.1.0 in /home/toto/anaconda3/lib/python3.8/site-packages (from qiskit-aqua==0.9.2->qiskit) (52.0.0.post20210125)\n",
      "Requirement already satisfied: docplex<=2.20.204 in /home/toto/anaconda3/lib/python3.8/site-packages (from qiskit-aqua==0.9.2->qiskit) (2.20.204)\n",
      "Requirement already satisfied: scikit-learn>=0.20.0 in /home/toto/anaconda3/lib/python3.8/site-packages (from qiskit-aqua==0.9.2->qiskit) (0.24.1)\n",
      "Requirement already satisfied: yfinance in /home/toto/anaconda3/lib/python3.8/site-packages (from qiskit-aqua==0.9.2->qiskit) (0.1.59)\n",
      "Requirement already satisfied: retworkx>=0.8.0 in /home/toto/anaconda3/lib/python3.8/site-packages (from qiskit-aqua==0.9.2->qiskit) (0.9.0)\n",
      "Requirement already satisfied: psutil>=5 in /home/toto/anaconda3/lib/python3.8/site-packages (from qiskit-aqua==0.9.2->qiskit) (5.8.0)\n",
      "Requirement already satisfied: fastdtw<=0.3.4 in /home/toto/anaconda3/lib/python3.8/site-packages (from qiskit-aqua==0.9.2->qiskit) (0.3.4)\n",
      "Requirement already satisfied: pandas in /home/toto/anaconda3/lib/python3.8/site-packages (from qiskit-aqua==0.9.2->qiskit) (1.2.4)\n",
      "Requirement already satisfied: dlx<=1.0.4 in /home/toto/anaconda3/lib/python3.8/site-packages (from qiskit-aqua==0.9.2->qiskit) (1.0.4)\n",
      "Requirement already satisfied: sympy>=1.3 in /home/toto/anaconda3/lib/python3.8/site-packages (from qiskit-aqua==0.9.2->qiskit) (1.5)\n",
      "Requirement already satisfied: h5py in /home/toto/anaconda3/lib/python3.8/site-packages (from qiskit-aqua==0.9.2->qiskit) (2.10.0)\n",
      "Requirement already satisfied: python-dateutil>=2.8.0 in /home/toto/anaconda3/lib/python3.8/site-packages (from qiskit-ibmq-provider==0.14.0->qiskit) (2.8.1)\n",
      "Requirement already satisfied: websocket-client>=1.0.1 in /home/toto/anaconda3/lib/python3.8/site-packages (from qiskit-ibmq-provider==0.14.0->qiskit) (1.1.0)\n",
      "Requirement already satisfied: urllib3>=1.21.1 in /home/toto/anaconda3/lib/python3.8/site-packages (from qiskit-ibmq-provider==0.14.0->qiskit) (1.26.4)\n",
      "Requirement already satisfied: dill>=0.3 in /home/toto/anaconda3/lib/python3.8/site-packages (from qiskit-ibmq-provider==0.14.0->qiskit) (0.3.4)\n",
      "Requirement already satisfied: requests>=2.19 in /home/toto/anaconda3/lib/python3.8/site-packages (from qiskit-ibmq-provider==0.14.0->qiskit) (2.25.1)\n",
      "Requirement already satisfied: requests-ntlm>=1.1.0 in /home/toto/anaconda3/lib/python3.8/site-packages (from qiskit-ibmq-provider==0.14.0->qiskit) (1.1.0)\n",
      "Requirement already satisfied: jsonschema>=2.6 in /home/toto/anaconda3/lib/python3.8/site-packages (from qiskit-terra==0.17.4->qiskit) (3.2.0)\n",
      "Requirement already satisfied: python-constraint>=1.4 in /home/toto/anaconda3/lib/python3.8/site-packages (from qiskit-terra==0.17.4->qiskit) (1.4.0)\n",
      "Requirement already satisfied: ply>=3.10 in /home/toto/anaconda3/lib/python3.8/site-packages (from qiskit-terra==0.17.4->qiskit) (3.11)\n",
      "Requirement already satisfied: fastjsonschema>=2.10 in /home/toto/anaconda3/lib/python3.8/site-packages (from qiskit-terra==0.17.4->qiskit) (2.15.1)\n",
      "Requirement already satisfied: six in /home/toto/anaconda3/lib/python3.8/site-packages (from docplex<=2.20.204->qiskit-aqua==0.9.2->qiskit) (1.15.0)\n",
      "Requirement already satisfied: attrs>=17.4.0 in /home/toto/anaconda3/lib/python3.8/site-packages (from jsonschema>=2.6->qiskit-terra==0.17.4->qiskit) (20.3.0)\n",
      "Requirement already satisfied: pyrsistent>=0.14.0 in /home/toto/anaconda3/lib/python3.8/site-packages (from jsonschema>=2.6->qiskit-terra==0.17.4->qiskit) (0.17.3)\n",
      "Requirement already satisfied: certifi>=2017.4.17 in /home/toto/anaconda3/lib/python3.8/site-packages (from requests>=2.19->qiskit-ibmq-provider==0.14.0->qiskit) (2020.12.5)\n",
      "Requirement already satisfied: idna<3,>=2.5 in /home/toto/anaconda3/lib/python3.8/site-packages (from requests>=2.19->qiskit-ibmq-provider==0.14.0->qiskit) (2.10)\n",
      "Requirement already satisfied: chardet<5,>=3.0.2 in /home/toto/anaconda3/lib/python3.8/site-packages (from requests>=2.19->qiskit-ibmq-provider==0.14.0->qiskit) (4.0.0)\n",
      "Requirement already satisfied: cryptography>=1.3 in /home/toto/anaconda3/lib/python3.8/site-packages (from requests-ntlm>=1.1.0->qiskit-ibmq-provider==0.14.0->qiskit) (3.4.7)\n",
      "Requirement already satisfied: ntlm-auth>=1.0.2 in /home/toto/anaconda3/lib/python3.8/site-packages (from requests-ntlm>=1.1.0->qiskit-ibmq-provider==0.14.0->qiskit) (1.5.0)\n",
      "Requirement already satisfied: cffi>=1.12 in /home/toto/anaconda3/lib/python3.8/site-packages (from cryptography>=1.3->requests-ntlm>=1.1.0->qiskit-ibmq-provider==0.14.0->qiskit) (1.14.5)\n",
      "Requirement already satisfied: pycparser in /home/toto/anaconda3/lib/python3.8/site-packages (from cffi>=1.12->cryptography>=1.3->requests-ntlm>=1.1.0->qiskit-ibmq-provider==0.14.0->qiskit) (2.20)\n",
      "Requirement already satisfied: threadpoolctl>=2.0.0 in /home/toto/anaconda3/lib/python3.8/site-packages (from scikit-learn>=0.20.0->qiskit-aqua==0.9.2->qiskit) (2.1.0)\n",
      "Requirement already satisfied: joblib>=0.11 in /home/toto/anaconda3/lib/python3.8/site-packages (from scikit-learn>=0.20.0->qiskit-aqua==0.9.2->qiskit) (1.0.1)\n",
      "Requirement already satisfied: mpmath>=0.19 in /home/toto/anaconda3/lib/python3.8/site-packages (from sympy>=1.3->qiskit-aqua==0.9.2->qiskit) (1.2.1)\n",
      "Requirement already satisfied: pytz>=2017.3 in /home/toto/anaconda3/lib/python3.8/site-packages (from pandas->qiskit-aqua==0.9.2->qiskit) (2021.1)\n",
      "Requirement already satisfied: more-itertools in /home/toto/anaconda3/lib/python3.8/site-packages (from quandl->qiskit-aqua==0.9.2->qiskit) (8.7.0)\n",
      "Requirement already satisfied: inflection>=0.3.1 in /home/toto/anaconda3/lib/python3.8/site-packages (from quandl->qiskit-aqua==0.9.2->qiskit) (0.5.1)\n",
      "Requirement already satisfied: lxml>=4.5.1 in /home/toto/anaconda3/lib/python3.8/site-packages (from yfinance->qiskit-aqua==0.9.2->qiskit) (4.6.3)\n",
      "Requirement already satisfied: multitasking>=0.0.7 in /home/toto/anaconda3/lib/python3.8/site-packages (from yfinance->qiskit-aqua==0.9.2->qiskit) (0.0.9)\n",
      "Installing collected packages: qiskit-terra\n",
      "  Attempting uninstall: qiskit-terra\n",
      "    Found existing installation: qiskit-terra 0.18.3\n",
      "    Uninstalling qiskit-terra-0.18.3:\n",
      "      Successfully uninstalled qiskit-terra-0.18.3\n",
      "\u001b[31mERROR: pip's dependency resolver does not currently take into account all the packages that are installed. This behaviour is the source of the following dependency conflicts.\n",
      "qiskit-machine-learning 0.2.1 requires qiskit-terra>=0.18.0, but you have qiskit-terra 0.17.4 which is incompatible.\u001b[0m\n",
      "Successfully installed qiskit-terra-0.17.4\n",
      "\u001b[33mWARNING: You are using pip version 21.2.4; however, version 21.3 is available.\n",
      "You should consider upgrading via the '/home/toto/anaconda3/bin/python -m pip install --upgrade pip' command.\u001b[0m\n",
      "Requirement already satisfied: qiskit-machine-learning in /home/toto/anaconda3/lib/python3.8/site-packages (0.2.1)\n",
      "Requirement already satisfied: numpy>=1.17 in /home/toto/anaconda3/lib/python3.8/site-packages (from qiskit-machine-learning) (1.20.3)\n",
      "Requirement already satisfied: fastdtw in /home/toto/anaconda3/lib/python3.8/site-packages (from qiskit-machine-learning) (0.3.4)\n",
      "Requirement already satisfied: scipy>=1.4 in /home/toto/anaconda3/lib/python3.8/site-packages (from qiskit-machine-learning) (1.7.1)\n",
      "Requirement already satisfied: psutil>=5 in /home/toto/anaconda3/lib/python3.8/site-packages (from qiskit-machine-learning) (5.8.0)\n",
      "Requirement already satisfied: scikit-learn>=0.20.0 in /home/toto/anaconda3/lib/python3.8/site-packages (from qiskit-machine-learning) (0.24.1)\n"
     ]
    },
    {
     "name": "stdout",
     "output_type": "stream",
     "text": [
      "Collecting qiskit-terra>=0.18.0\n",
      "  Using cached qiskit_terra-0.18.3-cp38-cp38-manylinux2010_x86_64.whl (6.2 MB)\n",
      "Requirement already satisfied: setuptools>=40.1.0 in /home/toto/anaconda3/lib/python3.8/site-packages (from qiskit-machine-learning) (52.0.0.post20210125)\n",
      "Requirement already satisfied: tweedledum<2.0,>=1.1 in /home/toto/anaconda3/lib/python3.8/site-packages (from qiskit-terra>=0.18.0->qiskit-machine-learning) (1.1.1)\n",
      "Requirement already satisfied: python-constraint>=1.4 in /home/toto/anaconda3/lib/python3.8/site-packages (from qiskit-terra>=0.18.0->qiskit-machine-learning) (1.4.0)\n",
      "Requirement already satisfied: retworkx>=0.9.0 in /home/toto/anaconda3/lib/python3.8/site-packages (from qiskit-terra>=0.18.0->qiskit-machine-learning) (0.9.0)\n",
      "Requirement already satisfied: fastjsonschema>=2.10 in /home/toto/anaconda3/lib/python3.8/site-packages (from qiskit-terra>=0.18.0->qiskit-machine-learning) (2.15.1)\n",
      "Requirement already satisfied: symengine>0.7 in /home/toto/anaconda3/lib/python3.8/site-packages (from qiskit-terra>=0.18.0->qiskit-machine-learning) (0.8.1)\n",
      "Requirement already satisfied: dill>=0.3 in /home/toto/anaconda3/lib/python3.8/site-packages (from qiskit-terra>=0.18.0->qiskit-machine-learning) (0.3.4)\n",
      "Requirement already satisfied: ply>=3.10 in /home/toto/anaconda3/lib/python3.8/site-packages (from qiskit-terra>=0.18.0->qiskit-machine-learning) (3.11)\n",
      "Requirement already satisfied: sympy>=1.3 in /home/toto/anaconda3/lib/python3.8/site-packages (from qiskit-terra>=0.18.0->qiskit-machine-learning) (1.5)\n",
      "Requirement already satisfied: jsonschema>=2.6 in /home/toto/anaconda3/lib/python3.8/site-packages (from qiskit-terra>=0.18.0->qiskit-machine-learning) (3.2.0)\n",
      "Requirement already satisfied: python-dateutil>=2.8.0 in /home/toto/anaconda3/lib/python3.8/site-packages (from qiskit-terra>=0.18.0->qiskit-machine-learning) (2.8.1)\n",
      "Requirement already satisfied: attrs>=17.4.0 in /home/toto/anaconda3/lib/python3.8/site-packages (from jsonschema>=2.6->qiskit-terra>=0.18.0->qiskit-machine-learning) (20.3.0)\n",
      "Requirement already satisfied: six>=1.11.0 in /home/toto/anaconda3/lib/python3.8/site-packages (from jsonschema>=2.6->qiskit-terra>=0.18.0->qiskit-machine-learning) (1.15.0)\n",
      "Requirement already satisfied: pyrsistent>=0.14.0 in /home/toto/anaconda3/lib/python3.8/site-packages (from jsonschema>=2.6->qiskit-terra>=0.18.0->qiskit-machine-learning) (0.17.3)\n",
      "Requirement already satisfied: joblib>=0.11 in /home/toto/anaconda3/lib/python3.8/site-packages (from scikit-learn>=0.20.0->qiskit-machine-learning) (1.0.1)\n",
      "Requirement already satisfied: threadpoolctl>=2.0.0 in /home/toto/anaconda3/lib/python3.8/site-packages (from scikit-learn>=0.20.0->qiskit-machine-learning) (2.1.0)\n",
      "Requirement already satisfied: mpmath>=0.19 in /home/toto/anaconda3/lib/python3.8/site-packages (from sympy>=1.3->qiskit-terra>=0.18.0->qiskit-machine-learning) (1.2.1)\n",
      "Installing collected packages: qiskit-terra\n",
      "  Attempting uninstall: qiskit-terra\n",
      "    Found existing installation: qiskit-terra 0.17.4\n",
      "    Uninstalling qiskit-terra-0.17.4:\n",
      "      Successfully uninstalled qiskit-terra-0.17.4\n",
      "\u001b[31mERROR: pip's dependency resolver does not currently take into account all the packages that are installed. This behaviour is the source of the following dependency conflicts.\n",
      "qiskit 0.27.0 requires qiskit-terra==0.17.4, but you have qiskit-terra 0.18.3 which is incompatible.\u001b[0m\n",
      "Successfully installed qiskit-terra-0.18.3\n",
      "\u001b[33mWARNING: You are using pip version 21.2.4; however, version 21.3 is available.\n",
      "You should consider upgrading via the '/home/toto/anaconda3/bin/python -m pip install --upgrade pip' command.\u001b[0m\n"
     ]
    }
   ],
   "source": [
    "!pip install qiskit\n",
    "!pip install qiskit-machine-learning"
   ]
  },
  {
   "cell_type": "code",
   "execution_count": 2,
   "id": "634b6fa4-fc62-4c7c-adcb-da14f8eae5c9",
   "metadata": {
    "scrolled": false
   },
   "outputs": [
    {
     "name": "stderr",
     "output_type": "stream",
     "text": [
      "/home/toto/anaconda3/lib/python3.8/site-packages/qiskit/ml/__init__.py:40: DeprecationWarning: The package qiskit.ml is deprecated. It was moved/refactored to qiskit_machine_learning (pip install qiskit-machine-learning). For more information see <https://github.com/Qiskit/qiskit-aqua/blob/main/README.md#migration-guide>\n",
      "  warn_package('ml', 'qiskit_machine_learning', 'qiskit-machine-learning')\n"
     ]
    }
   ],
   "source": [
    "import numpy as np\n",
    "import matplotlib.pyplot as plt\n",
    "from qiskit import QuantumCircuit, transpile, Aer, IBMQ, execute, QuantumRegister, ClassicalRegister\n",
    "\n",
    "from qiskit.utils import QuantumInstance\n",
    "from qiskit.circuit.library import RealAmplitudes, ZZFeatureMap\n",
    "from qiskit.algorithms.optimizers import COBYLA, L_BFGS_B\n",
    "from qiskit.circuit import Parameter, ParameterVector\n",
    "from qiskit_machine_learning.neural_networks import TwoLayerQNN, CircuitQNN\n",
    "from qiskit_machine_learning.algorithms.classifiers import NeuralNetworkClassifier, VQC\n",
    "from qiskit_machine_learning.algorithms.regressors import NeuralNetworkRegressor, VQR\n",
    "\n",
    "from typing import Union\n",
    "\n",
    "from qiskit_machine_learning.exceptions import QiskitMachineLearningError\n",
    "\n",
    "from IPython.display import clear_output\n",
    "from qiskit.tools.jupyter import *\n",
    "from qiskit.visualization import *\n",
    "from qiskit.ml.datasets import ad_hoc_data, sample_ad_hoc_data\n",
    "\n",
    "\n",
    "pi = np.pi\n",
    "\n",
    "seed = 10599\n",
    "#IBMQ.save_account('ff7b0e94064fe786ff6cf353d924e8e9503faef3971c6e5873220862bf14ce1989fbeb163597842d23f5e8a1d27ba7f9fb2f4af341da07da9c5bd109c109e76e')\n",
    "#provider = IBMQ.load_account()"
   ]
  },
  {
   "cell_type": "markdown",
   "id": "0b71b085-0ef8-4f7e-b5be-e6dd20481867",
   "metadata": {},
   "source": [
    "## Dataset\n",
    "\n",
    "Using the method ad_hoc_data to obtain a random dataset of 2 classes with 2 parameters."
   ]
  },
  {
   "cell_type": "code",
   "execution_count": 3,
   "id": "93293d25-4fc6-4538-96b1-707d073b630a",
   "metadata": {},
   "outputs": [
    {
     "name": "stderr",
     "output_type": "stream",
     "text": [
      "/home/toto/anaconda3/lib/python3.8/site-packages/qiskit/ml/datasets/ad_hoc.py:79: DeprecationWarning: The variable qiskit.aqua.aqua_globals is deprecated. It was moved/refactored to qiskit.utils.algorithm_globals (pip install qiskit-terra). For more information see <https://github.com/Qiskit/qiskit-aqua/blob/main/README.md#migration-guide>\n",
      "  basis = aqua_globals.random.random((2 ** n, 2 ** n)) + \\\n"
     ]
    },
    {
     "data": {
      "image/png": "[encoded data removed]",
      "text/plain": [
       "<Figure size 432x288 with 1 Axes>"
      ]
     },
     "metadata": {
      "needs_background": "light"
     },
     "output_type": "display_data"
    }
   ],
   "source": [
    "len_train = 40\n",
    "len_test = 10\n",
    "feature_dim = 2\n",
    "sample_total, training_input, test_input, class_labels = ad_hoc_data(\n",
    "    training_size=40,\n",
    "    test_size=10,\n",
    "    n=feature_dim,\n",
    "    gap=0.2,\n",
    "    plot_data=True\n",
    ")\n"
   ]
  },
  {
   "cell_type": "markdown",
   "id": "0f06661b-4c69-4923-a082-3204e018cd77",
   "metadata": {},
   "source": [
    "### Trainset\n",
    "\n",
    "We need to design a preprocessing for the  training_input variable to the neccesary train sets: X_train, y_train"
   ]
  },
  {
   "cell_type": "code",
   "execution_count": 4,
   "id": "ca1a1fa1-9fbc-49dc-a9ad-46fc5970ac34",
   "metadata": {},
   "outputs": [],
   "source": [
    "X_train = []\n",
    "y_train = []\n",
    "len_label = len(class_labels) \n",
    "index = 0 \n",
    "for i in class_labels:\n",
    "    y = [0.]*len_label\n",
    "    train_set = training_input[i]\n",
    "    X_train.extend(train_set)\n",
    "    for i in range(len(train_set)):\n",
    "        y[index] = 1.0\n",
    "        y_train.append(y)\n",
    "    index += 1\n",
    "X_train = np.asarray(X_train)\n",
    "y_train = np.asarray(y_train)"
   ]
  },
  {
   "cell_type": "markdown",
   "id": "e9e88990-aa9f-4907-9f7a-97dc3ae0d585",
   "metadata": {},
   "source": [
    "Print the result of the preprocessing"
   ]
  },
  {
   "cell_type": "code",
   "execution_count": 5,
   "id": "59d80d76-8a70-4a28-b325-83c49ee64c1d",
   "metadata": {},
   "outputs": [
    {
     "data": {
      "text/plain": [
       "(array([[4.27256601, 1.44513262],\n",
       "        [5.46637122, 3.51858377],\n",
       "        [2.70176968, 1.0681415 ],\n",
       "        [4.58672527, 1.50796447],\n",
       "        [3.51858377, 1.57079633],\n",
       "        [5.84336234, 6.09468975],\n",
       "        [4.1469023 , 5.46637122],\n",
       "        [5.2150438 , 1.50796447],\n",
       "        [1.19380521, 1.88495559],\n",
       "        [1.31946891, 4.96371639],\n",
       "        [0.75398224, 4.27256601],\n",
       "        [2.26194671, 3.76991118],\n",
       "        [1.0681415 , 1.25663706],\n",
       "        [5.90619419, 2.32477856],\n",
       "        [0.87964594, 1.94778745],\n",
       "        [5.02654825, 3.58141563],\n",
       "        [2.70176968, 0.56548668],\n",
       "        [5.96902604, 6.1575216 ],\n",
       "        [3.64424748, 2.45044227],\n",
       "        [2.89026524, 5.96902604],\n",
       "        [5.90619419, 0.69115038],\n",
       "        [0.9424778 , 2.0106193 ],\n",
       "        [3.76991118, 5.78053048],\n",
       "        [3.45575192, 1.50796447],\n",
       "        [2.26194671, 3.95840674],\n",
       "        [5.65486678, 6.09468975],\n",
       "        [4.46106157, 5.34070751],\n",
       "        [0.56548668, 6.22035345],\n",
       "        [0.25132741, 2.63893783],\n",
       "        [2.63893783, 6.03185789],\n",
       "        [6.1575216 , 6.09468975],\n",
       "        [4.39822972, 5.27787566],\n",
       "        [0.69115038, 6.22035345],\n",
       "        [0.        , 2.76460154],\n",
       "        [4.33539786, 5.27787566],\n",
       "        [3.83274304, 4.96371639],\n",
       "        [2.45044227, 4.20973416],\n",
       "        [0.43982297, 2.57610598],\n",
       "        [4.20973416, 5.59203492],\n",
       "        [5.02654825, 4.46106157],\n",
       "        [1.0681415 , 0.9424778 ],\n",
       "        [4.90088454, 0.50265482],\n",
       "        [1.69646003, 2.70176968],\n",
       "        [0.69115038, 5.65486678],\n",
       "        [3.89557489, 1.82212374],\n",
       "        [1.94778745, 1.94778745],\n",
       "        [5.34070751, 3.20442451],\n",
       "        [4.64955713, 0.25132741],\n",
       "        [1.88495559, 0.37699112],\n",
       "        [2.89026524, 2.76460154],\n",
       "        [4.39822972, 0.18849556],\n",
       "        [0.43982297, 5.40353936],\n",
       "        [5.27787566, 0.37699112],\n",
       "        [3.26725636, 2.19911486],\n",
       "        [4.1469023 , 3.0787608 ],\n",
       "        [3.01592895, 1.19380521],\n",
       "        [5.0893801 , 3.33008821],\n",
       "        [6.22035345, 1.82212374],\n",
       "        [1.94778745, 5.34070751],\n",
       "        [2.51327412, 0.43982297],\n",
       "        [0.62831853, 5.52920307],\n",
       "        [1.0681415 , 3.33008821],\n",
       "        [2.26194671, 5.0893801 ],\n",
       "        [0.        , 1.57079633],\n",
       "        [0.06283185, 1.0681415 ],\n",
       "        [1.19380521, 0.18849556],\n",
       "        [1.13097336, 0.18849556],\n",
       "        [0.62831853, 3.39292007],\n",
       "        [4.27256601, 3.20442451],\n",
       "        [3.45575192, 4.58672527],\n",
       "        [3.26725636, 1.13097336],\n",
       "        [4.20973416, 1.75929189],\n",
       "        [1.50796447, 2.32477856],\n",
       "        [0.81681409, 5.15221195],\n",
       "        [4.83805269, 5.96902604],\n",
       "        [2.07345115, 2.19911486],\n",
       "        [3.89557489, 0.37699112],\n",
       "        [1.00530965, 6.22035345],\n",
       "        [5.27787566, 0.12566371],\n",
       "        [2.07345115, 5.34070751]]),\n",
       " array([[1., 0.],\n",
       "        [1., 0.],\n",
       "        [1., 0.],\n",
       "        [1., 0.],\n",
       "        [1., 0.],\n",
       "        [1., 0.],\n",
       "        [1., 0.],\n",
       "        [1., 0.],\n",
       "        [1., 0.],\n",
       "        [1., 0.],\n",
       "        [1., 0.],\n",
       "        [1., 0.],\n",
       "        [1., 0.],\n",
       "        [1., 0.],\n",
       "        [1., 0.],\n",
       "        [1., 0.],\n",
       "        [1., 0.],\n",
       "        [1., 0.],\n",
       "        [1., 0.],\n",
       "        [1., 0.],\n",
       "        [1., 0.],\n",
       "        [1., 0.],\n",
       "        [1., 0.],\n",
       "        [1., 0.],\n",
       "        [1., 0.],\n",
       "        [1., 0.],\n",
       "        [1., 0.],\n",
       "        [1., 0.],\n",
       "        [1., 0.],\n",
       "        [1., 0.],\n",
       "        [1., 0.],\n",
       "        [1., 0.],\n",
       "        [1., 0.],\n",
       "        [1., 0.],\n",
       "        [1., 0.],\n",
       "        [1., 0.],\n",
       "        [1., 0.],\n",
       "        [1., 0.],\n",
       "        [1., 0.],\n",
       "        [1., 0.],\n",
       "        [0., 1.],\n",
       "        [0., 1.],\n",
       "        [0., 1.],\n",
       "        [0., 1.],\n",
       "        [0., 1.],\n",
       "        [0., 1.],\n",
       "        [0., 1.],\n",
       "        [0., 1.],\n",
       "        [0., 1.],\n",
       "        [0., 1.],\n",
       "        [0., 1.],\n",
       "        [0., 1.],\n",
       "        [0., 1.],\n",
       "        [0., 1.],\n",
       "        [0., 1.],\n",
       "        [0., 1.],\n",
       "        [0., 1.],\n",
       "        [0., 1.],\n",
       "        [0., 1.],\n",
       "        [0., 1.],\n",
       "        [0., 1.],\n",
       "        [0., 1.],\n",
       "        [0., 1.],\n",
       "        [0., 1.],\n",
       "        [0., 1.],\n",
       "        [0., 1.],\n",
       "        [0., 1.],\n",
       "        [0., 1.],\n",
       "        [0., 1.],\n",
       "        [0., 1.],\n",
       "        [0., 1.],\n",
       "        [0., 1.],\n",
       "        [0., 1.],\n",
       "        [0., 1.],\n",
       "        [0., 1.],\n",
       "        [0., 1.],\n",
       "        [0., 1.],\n",
       "        [0., 1.],\n",
       "        [0., 1.],\n",
       "        [0., 1.]]))"
      ]
     },
     "execution_count": 5,
     "metadata": {},
     "output_type": "execute_result"
    }
   ],
   "source": [
    "X_train, y_train"
   ]
  },
  {
   "cell_type": "markdown",
   "id": "729c70b3-8662-4101-bf89-c1dea4072991",
   "metadata": {},
   "source": [
    "### Testset\n",
    "\n",
    "We need to design a preprocessing for the  test_input variable to the neccesary train sets: X_test, y_test"
   ]
  },
  {
   "cell_type": "code",
   "execution_count": 6,
   "id": "18b0ff24-85a8-4d92-bbc3-98748b6cbe1a",
   "metadata": {},
   "outputs": [],
   "source": [
    "X_test= []\n",
    "y_test = []\n",
    "index = 0 \n",
    "for i in class_labels:\n",
    "    y = [0.]*len_label\n",
    "    test_set = test_input[i]\n",
    "    X_test.extend(test_set)\n",
    "    for i in range(len(test_set)):\n",
    "        y[index] = 1.0\n",
    "        y_test.append(y)\n",
    "    index += 1"
   ]
  },
  {
   "cell_type": "code",
   "execution_count": 7,
   "id": "1c7b30df-b37f-46a7-ab42-b7696d3f75af",
   "metadata": {},
   "outputs": [
    {
     "data": {
      "text/plain": [
       "([array([2.70176968, 0.37699112]),\n",
       "  array([3.83274304, 4.71238898]),\n",
       "  array([3.70707933, 4.96371639]),\n",
       "  array([2.51327412, 3.45575192]),\n",
       "  array([5.59203492, 2.89026524]),\n",
       "  array([0.31415927, 2.19911486]),\n",
       "  array([1.25663706, 4.77522083]),\n",
       "  array([4.83805269, 1.63362818]),\n",
       "  array([4.64955713, 1.57079633]),\n",
       "  array([1.19380521, 4.96371639]),\n",
       "  array([1.38230077, 4.1469023 ]),\n",
       "  array([6.22035345, 1.44513262]),\n",
       "  array([4.20973416, 2.07345115]),\n",
       "  array([1.94778745, 5.02654825]),\n",
       "  array([4.77522083, 2.45044227]),\n",
       "  array([4.77522083, 2.07345115]),\n",
       "  array([5.15221195, 2.45044227]),\n",
       "  array([6.03185789, 1.75929189]),\n",
       "  array([6.22035345, 4.08407045]),\n",
       "  array([4.58672527, 2.38761042])],\n",
       " [[1.0, 0.0],\n",
       "  [1.0, 0.0],\n",
       "  [1.0, 0.0],\n",
       "  [1.0, 0.0],\n",
       "  [1.0, 0.0],\n",
       "  [1.0, 0.0],\n",
       "  [1.0, 0.0],\n",
       "  [1.0, 0.0],\n",
       "  [1.0, 0.0],\n",
       "  [1.0, 0.0],\n",
       "  [0.0, 1.0],\n",
       "  [0.0, 1.0],\n",
       "  [0.0, 1.0],\n",
       "  [0.0, 1.0],\n",
       "  [0.0, 1.0],\n",
       "  [0.0, 1.0],\n",
       "  [0.0, 1.0],\n",
       "  [0.0, 1.0],\n",
       "  [0.0, 1.0],\n",
       "  [0.0, 1.0]])"
      ]
     },
     "execution_count": 7,
     "metadata": {},
     "output_type": "execute_result"
    }
   ],
   "source": [
    "X_test, y_test"
   ]
  },
  {
   "cell_type": "markdown",
   "id": "8e391ef1-77df-4087-b129-a29e01eb00e6",
   "metadata": {},
   "source": [
    "### Design a method to plot the epoch"
   ]
  },
  {
   "cell_type": "code",
   "execution_count": 8,
   "id": "29bff624-dffc-4836-a4d6-13b652615974",
   "metadata": {},
   "outputs": [],
   "source": [
    "# callback function that draws a live plot when the .fit() method is called\n",
    "def callback_graph(weights, obj_func_eval):\n",
    "    clear_output(wait=True)\n",
    "    objective_func_vals.append(obj_func_eval)\n",
    "    plt.title(\"Objective function value against iteration\")\n",
    "    plt.xlabel(\"Iteration\")\n",
    "    plt.ylabel(\"Objective function value\")\n",
    "    plt.plot(range(len(objective_func_vals)), objective_func_vals)\n",
    "    plt.show()"
   ]
  },
  {
   "cell_type": "markdown",
   "id": "945cd318-3938-4c86-8ebf-7aeec182b701",
   "metadata": {},
   "source": [
    "## QML part\n",
    "\n",
    "Design the maping to the variables of each instance of the train dataset and design the ansatz.\n",
    "\n",
    "### Mapping\n",
    "\n",
    "Using the ZZFeatureMap method with the feature dimension with 2"
   ]
  },
  {
   "cell_type": "code",
   "execution_count": 9,
   "id": "a5ffb5ad-a27d-4326-95c5-33dfa546446c",
   "metadata": {},
   "outputs": [
    {
     "data": {
      "image/png": "[encoded data removed]",
      "text/plain": [
       "<Figure size 929.252x144.48 with 1 Axes>"
      ]
     },
     "execution_count": 9,
     "metadata": {},
     "output_type": "execute_result"
    }
   ],
   "source": [
    "feature_map = ZZFeatureMap(feature_dim)\n",
    "feature_map.decompose().draw(\"mpl\")"
   ]
  },
  {
   "cell_type": "markdown",
   "id": "8c8c6945-4d98-4ef0-bc73-a01a952cc690",
   "metadata": {},
   "source": [
    "### Ansatz\n",
    "\n",
    "The variational Quantum circuit, in qiskit exist the possibility to apply pre-defined ansatz like RealAmplitudes"
   ]
  },
  {
   "cell_type": "code",
   "execution_count": 10,
   "id": "77852a30-cedc-493b-8dd4-80f56b48746e",
   "metadata": {},
   "outputs": [
    {
     "data": {
      "image/png": "[encoded data removed]",
      "text/plain": [
       "<Figure size 267.052x144.48 with 1 Axes>"
      ]
     },
     "execution_count": 10,
     "metadata": {},
     "output_type": "execute_result"
    }
   ],
   "source": [
    "ansatz_c = RealAmplitudes(feature_dim, reps=1)\n",
    "ansatz_c.decompose().draw(\"mpl\")"
   ]
  },
  {
   "cell_type": "markdown",
   "id": "15953c87-76d0-4ed8-8cb6-a9b9ad945d27",
   "metadata": {},
   "source": [
    "This example we design own ansatz."
   ]
  },
  {
   "cell_type": "code",
   "execution_count": 11,
   "id": "eef7dc74-ca56-4306-a94d-d8c9e8bdec07",
   "metadata": {},
   "outputs": [],
   "source": [
    "def ansatz(n, num_layers):\n",
    "    #Set the number of layers and qubits\n",
    "    #ParameterVectors are initialized with a string identifier and an integer specifying the vector length    \n",
    "    parameters = ParameterVector('θ', n*(num_layers+1))\n",
    "\n",
    "    circuit = QuantumCircuit(n,name='oracle')\n",
    "    \n",
    "    for i in range(n):\n",
    "        circuit.h(i)\n",
    "    \n",
    "    for layer in range(num_layers):\n",
    "        #Appending the parameterized Ry gates using parameters from the vector constructed above\n",
    "        for i in range(n):\n",
    "            circuit.ry(parameters[n*layer+i], i)\n",
    "\n",
    "        #Appending the entangling CNOT gates\n",
    "        for i in range(n-1):\n",
    "            circuit.cx(i,1)\n",
    "\n",
    "    #Appending one additional layer of parameterized Rz gates\n",
    "        for i in range(n):\n",
    "            circuit.rz(parameters[n*num_layers+i], i)\n",
    "    \n",
    "    for i in range(n):\n",
    "        circuit.h(i)\n",
    "    return circuit"
   ]
  },
  {
   "cell_type": "code",
   "execution_count": 12,
   "id": "1fa36de1-cad7-44a4-b32c-a218f4711b97",
   "metadata": {},
   "outputs": [],
   "source": [
    "num_layers = 2\n",
    "ansatz_circuit = ansatz(feature_dim,num_layers)"
   ]
  },
  {
   "cell_type": "code",
   "execution_count": 13,
   "id": "da4ae8df-2e06-499c-9c82-968b17d8ce3a",
   "metadata": {},
   "outputs": [
    {
     "data": {
      "image/png": "[encoded data removed]",
      "text/plain": [
       "<Figure size 568.052x144.48 with 1 Axes>"
      ]
     },
     "execution_count": 13,
     "metadata": {},
     "output_type": "execute_result"
    }
   ],
   "source": [
    "ansatz_circuit.draw(\"mpl\")"
   ]
  },
  {
   "cell_type": "markdown",
   "id": "8c404628-be1a-4285-8fee-b2d39d5fe40d",
   "metadata": {},
   "source": [
    "## Simulation  part\n",
    "\n",
    "The quantum instance for  simulation a quantum computing"
   ]
  },
  {
   "cell_type": "code",
   "execution_count": 14,
   "id": "b55de307-74bc-481d-937b-e968bc758e13",
   "metadata": {},
   "outputs": [],
   "source": [
    "quantum_instance = QuantumInstance(Aer.get_backend('qasm_simulator'), shots=8192)"
   ]
  },
  {
   "cell_type": "code",
   "execution_count": 15,
   "id": "7743dfb1-8f7f-498e-8ab8-30a99de808b9",
   "metadata": {},
   "outputs": [],
   "source": [
    "\n",
    "# construct variational quantum classifier\n",
    "vqc = VQC(feature_map=feature_map,\n",
    "          ansatz=ansatz_circuit,\n",
    "          loss='cross_entropy',\n",
    "          optimizer=COBYLA(),\n",
    "          quantum_instance=quantum_instance,\n",
    "          callback=callback_graph)\n"
   ]
  },
  {
   "cell_type": "code",
   "execution_count": 16,
   "id": "bdf9f2ab-68be-43a2-9afd-edf456294266",
   "metadata": {},
   "outputs": [
    {
     "data": {
      "image/png": "[encoded data removed]",
      "text/plain": [
       "<Figure size 864x432 with 1 Axes>"
      ]
     },
     "metadata": {
      "needs_background": "light"
     },
     "output_type": "display_data"
    },
    {
     "data": {
      "text/plain": [
       "0.9375"
      ]
     },
     "execution_count": 16,
     "metadata": {},
     "output_type": "execute_result"
    }
   ],
   "source": [
    "# create empty array for callback to store evaluations of the objective function\n",
    "objective_func_vals = []\n",
    "plt.rcParams[\"figure.figsize\"] = (12, 6)\n",
    "\n",
    "# fit classifier to data\n",
    "vqc.fit(X_train, y_train)\n",
    "\n",
    "# return to default figsize\n",
    "plt.rcParams[\"figure.figsize\"] = (6, 4)\n",
    "\n",
    "# score classifier\n",
    "vqc.score(X_train, y_train)"
   ]
  },
  {
   "cell_type": "code",
   "execution_count": 17,
   "id": "6cbff371-7677-4567-9291-d04135359fb8",
   "metadata": {},
   "outputs": [
    {
     "data": {
      "text/plain": [
       "0.85"
      ]
     },
     "execution_count": 17,
     "metadata": {},
     "output_type": "execute_result"
    }
   ],
   "source": [
    "vqc.score(X_test, y_test)"
   ]
  },
  {
   "cell_type": "markdown",
   "id": "caf345fa",
   "metadata": {},
   "source": [
    "# General quantum circuit\n",
    "\n",
    "For those kind of ways to simulate a quantum variational classifier we use the same quantum circuit"
   ]
  },
  {
   "cell_type": "code",
   "execution_count": 18,
   "id": "e004c02d",
   "metadata": {},
   "outputs": [],
   "source": [
    "num_layers = 1\n",
    "params = np.random.random([(1+num_layers)*feature_dim])  "
   ]
  },
  {
   "cell_type": "code",
   "execution_count": 19,
   "id": "7412763a",
   "metadata": {},
   "outputs": [],
   "source": [
    "def ansatz_m(n, num_layers,params):\n",
    "    #Set the number of layers and qubits\n",
    "    #ParameterVectors are initialized with a string identifier and an integer specifying the vector length    \n",
    "    parameters = ParameterVector('θ', n*(num_layers+1))\n",
    "    j = 0\n",
    "    params_dict = {}\n",
    "    circuit = QuantumCircuit(n)\n",
    "    \n",
    "    for i in range(n):\n",
    "        circuit.h(i)\n",
    "    \n",
    "    for layer in range(num_layers):\n",
    "        #Appending the parameterized Ry gates using parameters from the vector constructed above\n",
    "        for i in range(n):\n",
    "            circuit.ry(parameters[n*layer+i], i)\n",
    "\n",
    "        #Appending the entangling CNOT gates\n",
    "        for i in range(n-1):\n",
    "            circuit.cx(i,1)\n",
    "\n",
    "    #Appending one additional layer of parameterized Rz gates\n",
    "        for i in range(n):\n",
    "            circuit.rz(parameters[n*num_layers+i], i)\n",
    "    \n",
    "    for i in range(n):\n",
    "        circuit.h(i)\n",
    "    for p in parameters:\n",
    "        params_dict[p] = params[j] \n",
    "        j += 1\n",
    "    circuit = circuit.assign_parameters(parameters = params_dict)\n",
    "    return circuit"
   ]
  },
  {
   "cell_type": "code",
   "execution_count": 20,
   "id": "4701a54c",
   "metadata": {},
   "outputs": [
    {
     "data": {
      "text/plain": [
       "0.7"
      ]
     },
     "execution_count": 20,
     "metadata": {},
     "output_type": "execute_result"
    }
   ],
   "source": [
    "import operator\n",
    "\n",
    "def sim_variational_classifier(params):\n",
    "    cost = 0\n",
    "    acc = 0\n",
    "    shots= 8192\n",
    "    for i in range(len_train*2):\n",
    "        qc = QuantumCircuit(feature_dim,feature_dim)\n",
    "        qc.append(feature_map,range(feature_dim))\n",
    "        j = 0\n",
    "        inputs_dict = {}\n",
    "        for index in feature_map.parameters:\n",
    "            inputs_dict[index] = X_train[i][j] \n",
    "            j += 1\n",
    "        qc = qc.assign_parameters(inputs_dict)\n",
    "        qc.append(ansatz_m(feature_dim,num_layers,params),range(feature_dim))\n",
    "        qc.measure(range(feature_dim),range(feature_dim))\n",
    "        result = execute(qc, Aer.get_backend('qasm_simulator')).result()                 \n",
    "        counts = result.get_counts(qc)\n",
    "        y_pred = max(counts.items(), key=operator.itemgetter(1))[0]\n",
    "        y_pred = [float(i) for i in y_pred]\n",
    "        if y_pred[0] == y_train[i][0] and y_pred[1] == y_train[i][1]:\n",
    "            acc += 1\n",
    "        else:\n",
    "            cost +=1\n",
    "    return cost/(len_train*2)\n",
    "num_parameters = 4\n",
    "sim_variational_classifier(params)"
   ]
  },
  {
   "cell_type": "code",
   "execution_count": 21,
   "id": "2061b802",
   "metadata": {},
   "outputs": [
    {
     "name": "stdout",
     "output_type": "stream",
     "text": [
      "cost\n",
      "0.65\n",
      "0.5625\n",
      "0.4375\n",
      "0.4125\n",
      "0.4\n",
      "0.4125\n",
      "0.4\n",
      "0.275\n",
      "0.2375\n",
      "0.25\n",
      "0.2375\n"
     ]
    }
   ],
   "source": [
    "print(\"cost\")\n",
    "print(sim_variational_classifier(params))\n",
    "\n",
    "for i in range(10):\n",
    "    optimizer = COBYLA(maxiter=20)\n",
    "    ret = optimizer.optimize(num_vars=len(params),objective_function=sim_variational_classifier, initial_point=params)\n",
    "    params = ret[0]\n",
    "    print(ret[1])\n",
    "    "
   ]
  }
 ],
 "metadata": {
  "kernelspec": {
   "display_name": "Python 3",
   "language": "python",
   "name": "python3"
  },
  "language_info": {
   "codemirror_mode": {
    "name": "ipython",
    "version": 3
   },
   "file_extension": ".py",
   "mimetype": "text/x-python",
   "name": "python",
   "nbconvert_exporter": "python",
   "pygments_lexer": "ipython3",
   "version": "3.8.8"
  },
  "widgets": {
   "application/vnd.jupyter.widget-state+json": {
    "state": {},
    "version_major": 2,
    "version_minor": 0
   }
  }
 },
 "nbformat": 4,
 "nbformat_minor": 5
}
